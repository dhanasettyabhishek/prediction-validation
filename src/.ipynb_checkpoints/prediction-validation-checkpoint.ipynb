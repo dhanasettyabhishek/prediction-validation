{
 "cells": [
  {
   "cell_type": "code",
   "execution_count": 6,
   "metadata": {},
   "outputs": [],
   "source": [
    "import numpy as np\n",
    "import pandas as pd\n",
    "from itertools import combinations"
   ]
  },
  {
   "cell_type": "code",
   "execution_count": null,
   "metadata": {},
   "outputs": [],
   "source": []
  },
  {
   "cell_type": "code",
   "execution_count": 7,
   "metadata": {},
   "outputs": [],
   "source": [
    "actual_data = open(\"../input/actual_1.txt\", mode = \"r\")\n",
    "predicted_data = open(\"../input/predicted_1.txt\", mode = \"r\")\n",
    "window = open(\"../input/window_1.txt\", mode = \"r\")"
   ]
  },
  {
   "cell_type": "code",
   "execution_count": 8,
   "metadata": {},
   "outputs": [],
   "source": [
    "actual_data_pd = pd.read_csv(\"../input/actual_1.txt\", delimiter=\"|\", header=None)\n",
    "predicted_data_pd = pd.read_csv(\"../input/predicted_1.txt\", delimiter=\"|\", header=None)\n",
    "window_data_pd = pd.read_csv(\"../input/window_1.txt\",  header=None)"
   ]
  },
  {
   "cell_type": "code",
   "execution_count": 9,
   "metadata": {},
   "outputs": [],
   "source": [
    "window_data_pd[0][0]\n",
    "max_actual = max(actual_data_pd[0])"
   ]
  },
  {
   "cell_type": "code",
   "execution_count": 10,
   "metadata": {},
   "outputs": [
    {
     "data": {
      "text/plain": [
       "3"
      ]
     },
     "execution_count": 10,
     "metadata": {},
     "output_type": "execute_result"
    }
   ],
   "source": [
    "max_actual"
   ]
  },
  {
   "cell_type": "code",
   "execution_count": null,
   "metadata": {},
   "outputs": [],
   "source": []
  },
  {
   "cell_type": "code",
   "execution_count": 11,
   "metadata": {},
   "outputs": [
    {
     "name": "stdout",
     "output_type": "stream",
     "text": [
      "(1, 2, 3)\n",
      "(1, 2, 4)\n",
      "(1, 3, 4)\n",
      "(2, 3, 4)\n"
     ]
    }
   ],
   "source": [
    "temp = window_data_pd[0][0]\n",
    "comb = combinations(range(1, 4+1), 3)\n",
    "for i in comb:\n",
    "    print(i)"
   ]
  },
  {
   "cell_type": "code",
   "execution_count": 12,
   "metadata": {},
   "outputs": [
    {
     "name": "stdout",
     "output_type": "stream",
     "text": [
      "1 2 3\n",
      "2 3 4\n",
      "3 4 5\n"
     ]
    }
   ],
   "source": [
    "i = 1\n",
    "while i != 4:\n",
    "    print(i, i+1, i+2)\n",
    "    i += 1"
   ]
  },
  {
   "cell_type": "code",
   "execution_count": 8,
   "metadata": {},
   "outputs": [
    {
     "data": {
      "text/plain": [
       "2"
      ]
     },
     "execution_count": 8,
     "metadata": {},
     "output_type": "execute_result"
    }
   ],
   "source": [
    "temp"
   ]
  },
  {
   "cell_type": "code",
   "execution_count": 9,
   "metadata": {},
   "outputs": [
    {
     "name": "stdout",
     "output_type": "stream",
     "text": [
      "1\n",
      "2\n",
      "3\n"
     ]
    }
   ],
   "source": [
    "list1 = [1, 2, 3, 4, 5, 6]\n",
    "window_size = 3\n",
    "for i in range(window_size):\n",
    "    print(list1[i])"
   ]
  },
  {
   "cell_type": "code",
   "execution_count": 60,
   "metadata": {},
   "outputs": [
    {
     "name": "stdout",
     "output_type": "stream",
     "text": [
      "(1, 2, 3, 4)\n",
      "(2, 3, 4, 5)\n",
      "(3, 4, 5, 6)\n"
     ]
    }
   ],
   "source": [
    "from itertools import islice\n",
    "seq = [1, 2, 3, 4, 5, 6]\n",
    "def window(seq, n=4):\n",
    "    '''\n",
    "    it = iter(seq)\n",
    "    result = list()\n",
    "#     result = tuple(islice(it, n))\n",
    "#     print(seq[2:])\n",
    "    result = seq[n:n+3]\n",
    "    result = tuple(result)\n",
    "#     print(result)\n",
    "#     if len(result) == n:\n",
    "#         yield result\n",
    "    for elem in (seq[n-1:]):\n",
    "        print(elem)\n",
    "        print(result)\n",
    "        result = result[1:] + (elem,)\n",
    "        yield result\n",
    "    '''\n",
    "    result = tuple(seq[:n])\n",
    "    yield result\n",
    "    seq = seq[n:]\n",
    "    for elem in seq:\n",
    "        result = result[1:] + (elem,)\n",
    "        yield result\n",
    "\n",
    "for i in window(seq):\n",
    "    print(i)"
   ]
  },
  {
   "cell_type": "code",
   "execution_count": 66,
   "metadata": {},
   "outputs": [
    {
     "name": "stdout",
     "output_type": "stream",
     "text": [
      "[1, 2, 3, 4, 5, 6]\n",
      "(1, 2, 3, 4)\n",
      "(2, 3, 4, 5)\n",
      "(3, 4, 5, 6)\n"
     ]
    }
   ],
   "source": [
    "def window_combinations(max_actual, window_size = 4):\n",
    "    list1 = list()\n",
    "#     for i in range(1, max_actual+1):\n",
    "#         list1.append(i)\n",
    "    list(map(lambda i: list1.append(i), range(1, max_actual+1)))\n",
    "#     print(list1)\n",
    "    it = iter(list1)\n",
    "    combinations_with_increment_1 = tuple(list1[:window_size])\n",
    "    yield combinations_with_increment_1\n",
    "#     if len(combinations_with_increment_1) == window_size:\n",
    "#         yield combinations_with_increment_1\n",
    "    list1 = list1[window_size:]\n",
    "    for i in list1:\n",
    "        combinations_with_increment_1 = combinations_with_increment_1[1:] + (i,)\n",
    "        yield combinations_with_increment_1\n",
    "        \n",
    "for i in window_combinations(6):\n",
    "    print(i)"
   ]
  },
  {
   "cell_type": "code",
   "execution_count": 19,
   "metadata": {},
   "outputs": [
    {
     "name": "stdout",
     "output_type": "stream",
     "text": [
      "1440\n"
     ]
    }
   ],
   "source": [
    "actual_data = open(\"../input/actual.txt\", mode = \"r\")\n",
    "actual = list()\n",
    "j = 0\n",
    "for i in actual_data.readlines():\n",
    "    temp = i.strip().split(\"|\")\n",
    "    actual.append(temp)\n",
    "    j += 1\n",
    "# print(actual)\n",
    "print(int(actual[-1][0]))"
   ]
  },
  {
   "cell_type": "code",
   "execution_count": 14,
   "metadata": {},
   "outputs": [],
   "source": [
    "# actual_window\n",
    "test, stock, amount = zip(*actual)\n",
    "# for i in test:\n",
    "#     print(i)   "
   ]
  },
  {
   "cell_type": "code",
   "execution_count": 15,
   "metadata": {},
   "outputs": [
    {
     "ename": "TypeError",
     "evalue": "int() argument must be a string, a bytes-like object or a number, not 'tuple'",
     "output_type": "error",
     "traceback": [
      "\u001b[1;31m---------------------------------------------------------------------------\u001b[0m",
      "\u001b[1;31mTypeError\u001b[0m                                 Traceback (most recent call last)",
      "\u001b[1;32m<ipython-input-15-7e950ff2ce2f>\u001b[0m in \u001b[0;36m<module>\u001b[1;34m()\u001b[0m\n\u001b[1;32m----> 1\u001b[1;33m \u001b[0mmax\u001b[0m\u001b[1;33m(\u001b[0m\u001b[0mint\u001b[0m\u001b[1;33m(\u001b[0m\u001b[0mtest\u001b[0m\u001b[1;33m)\u001b[0m\u001b[1;33m)\u001b[0m\u001b[1;33m\u001b[0m\u001b[0m\n\u001b[0m",
      "\u001b[1;31mTypeError\u001b[0m: int() argument must be a string, a bytes-like object or a number, not 'tuple'"
     ]
    }
   ],
   "source": [
    "max(int(test))"
   ]
  },
  {
   "cell_type": "code",
   "execution_count": 15,
   "metadata": {},
   "outputs": [
    {
     "data": {
      "text/plain": [
       "('SLKWVA',\n",
       " 'CMWTQH',\n",
       " 'ATAYJP',\n",
       " 'HVIWZR',\n",
       " 'ATAYJP',\n",
       " 'SLKWVA',\n",
       " 'CMWTQH',\n",
       " 'HVIWZR',\n",
       " 'ATAYJP',\n",
       " 'HVIWZR',\n",
       " 'SLKWVA',\n",
       " 'CMWTQH')"
      ]
     },
     "execution_count": 15,
     "metadata": {},
     "output_type": "execute_result"
    }
   ],
   "source": [
    "stock"
   ]
  },
  {
   "cell_type": "code",
   "execution_count": 16,
   "metadata": {},
   "outputs": [
    {
     "data": {
      "text/plain": [
       "('94.51',\n",
       " '81.27',\n",
       " '25.74',\n",
       " '22.81',\n",
       " '29.62',\n",
       " '81.87',\n",
       " '116.11',\n",
       " '22.15',\n",
       " '21.93',\n",
       " '22.24',\n",
       " '78.01',\n",
       " '113.63')"
      ]
     },
     "execution_count": 16,
     "metadata": {},
     "output_type": "execute_result"
    }
   ],
   "source": [
    "amount"
   ]
  },
  {
   "cell_type": "markdown",
   "metadata": {},
   "source": [
    "I need to call stocks with id = 1"
   ]
  },
  {
   "cell_type": "code",
   "execution_count": 17,
   "metadata": {},
   "outputs": [
    {
     "data": {
      "text/html": [
       "<div>\n",
       "<style scoped>\n",
       "    .dataframe tbody tr th:only-of-type {\n",
       "        vertical-align: middle;\n",
       "    }\n",
       "\n",
       "    .dataframe tbody tr th {\n",
       "        vertical-align: top;\n",
       "    }\n",
       "\n",
       "    .dataframe thead th {\n",
       "        text-align: right;\n",
       "    }\n",
       "</style>\n",
       "<table border=\"1\" class=\"dataframe\">\n",
       "  <thead>\n",
       "    <tr style=\"text-align: right;\">\n",
       "      <th></th>\n",
       "      <th>0</th>\n",
       "      <th>1</th>\n",
       "      <th>2</th>\n",
       "    </tr>\n",
       "  </thead>\n",
       "  <tbody>\n",
       "    <tr>\n",
       "      <th>0</th>\n",
       "      <td>1</td>\n",
       "      <td>SLKWVA</td>\n",
       "      <td>94.51</td>\n",
       "    </tr>\n",
       "    <tr>\n",
       "      <th>1</th>\n",
       "      <td>1</td>\n",
       "      <td>CMWTQH</td>\n",
       "      <td>81.27</td>\n",
       "    </tr>\n",
       "    <tr>\n",
       "      <th>2</th>\n",
       "      <td>1</td>\n",
       "      <td>ATAYJP</td>\n",
       "      <td>25.74</td>\n",
       "    </tr>\n",
       "    <tr>\n",
       "      <th>3</th>\n",
       "      <td>1</td>\n",
       "      <td>HVIWZR</td>\n",
       "      <td>22.81</td>\n",
       "    </tr>\n",
       "    <tr>\n",
       "      <th>4</th>\n",
       "      <td>2</td>\n",
       "      <td>ATAYJP</td>\n",
       "      <td>29.62</td>\n",
       "    </tr>\n",
       "    <tr>\n",
       "      <th>5</th>\n",
       "      <td>2</td>\n",
       "      <td>SLKWVA</td>\n",
       "      <td>81.87</td>\n",
       "    </tr>\n",
       "    <tr>\n",
       "      <th>6</th>\n",
       "      <td>2</td>\n",
       "      <td>CMWTQH</td>\n",
       "      <td>116.11</td>\n",
       "    </tr>\n",
       "    <tr>\n",
       "      <th>7</th>\n",
       "      <td>2</td>\n",
       "      <td>HVIWZR</td>\n",
       "      <td>22.15</td>\n",
       "    </tr>\n",
       "    <tr>\n",
       "      <th>8</th>\n",
       "      <td>3</td>\n",
       "      <td>ATAYJP</td>\n",
       "      <td>21.93</td>\n",
       "    </tr>\n",
       "    <tr>\n",
       "      <th>9</th>\n",
       "      <td>3</td>\n",
       "      <td>HVIWZR</td>\n",
       "      <td>22.24</td>\n",
       "    </tr>\n",
       "    <tr>\n",
       "      <th>10</th>\n",
       "      <td>3</td>\n",
       "      <td>SLKWVA</td>\n",
       "      <td>78.01</td>\n",
       "    </tr>\n",
       "    <tr>\n",
       "      <th>11</th>\n",
       "      <td>3</td>\n",
       "      <td>CMWTQH</td>\n",
       "      <td>113.63</td>\n",
       "    </tr>\n",
       "  </tbody>\n",
       "</table>\n",
       "</div>"
      ],
      "text/plain": [
       "    0       1       2\n",
       "0   1  SLKWVA   94.51\n",
       "1   1  CMWTQH   81.27\n",
       "2   1  ATAYJP   25.74\n",
       "3   1  HVIWZR   22.81\n",
       "4   2  ATAYJP   29.62\n",
       "5   2  SLKWVA   81.87\n",
       "6   2  CMWTQH  116.11\n",
       "7   2  HVIWZR   22.15\n",
       "8   3  ATAYJP   21.93\n",
       "9   3  HVIWZR   22.24\n",
       "10  3  SLKWVA   78.01\n",
       "11  3  CMWTQH  113.63"
      ]
     },
     "execution_count": 17,
     "metadata": {},
     "output_type": "execute_result"
    }
   ],
   "source": [
    "actual_data_pd"
   ]
  },
  {
   "cell_type": "code",
   "execution_count": 18,
   "metadata": {},
   "outputs": [
    {
     "name": "stdout",
     "output_type": "stream",
     "text": [
      "   0       1      2\n",
      "0  1  SLKWVA  94.51\n",
      "1  1  CMWTQH  81.27\n",
      "2  1  ATAYJP  25.74\n",
      "3  1  HVIWZR  22.81\n",
      "   0       1      2\n",
      "0  1  ATAYJP  25.71\n",
      "1  1  HVIWZR  22.80\n",
      "2  1  SLKWVA  94.49\n",
      "3  1  CMWTQH  81.22\n",
      "   index  0       1      2\n",
      "0      2  1  ATAYJP  25.74\n",
      "1      1  1  CMWTQH  81.27\n",
      "2      3  1  HVIWZR  22.81\n",
      "3      0  1  SLKWVA  94.51\n",
      "   index  0       1      2\n",
      "0      0  1  ATAYJP  25.71\n",
      "1      3  1  CMWTQH  81.22\n",
      "2      1  1  HVIWZR  22.80\n",
      "3      2  1  SLKWVA  94.49\n",
      "0    25.74\n",
      "1    81.27\n",
      "2    22.81\n",
      "3    94.51\n",
      "Name: 2, dtype: float64\n",
      "4\n",
      "0    0.03\n",
      "1    0.05\n",
      "2    0.01\n",
      "3    0.02\n",
      "Name: 2, dtype: float64\n",
      "0.03\n"
     ]
    }
   ],
   "source": [
    "def callStockWithID(hour):\n",
    "    print(actual_data_pd[actual_data_pd[0] == hour])\n",
    "    print(predicted_data_pd[predicted_data_pd[0] == hour])\n",
    "    actual_hour = actual_data_pd[actual_data_pd[0] == hour]\n",
    "    predicted_hour = predicted_data_pd[predicted_data_pd[0] == hour]\n",
    "    error = list()\n",
    "    actual_hour = actual_hour.sort_values(by = 1).reset_index()\n",
    "    predicted_hour = predicted_hour.sort_values(by = 1).reset_index() \n",
    "    print(actual_hour)\n",
    "    print(predicted_hour)\n",
    "    print(actual_hour[2])\n",
    "    print(len(predicted_hour[2]))\n",
    "    for i in range(1, max(len(actual_hour), len(predicted_hour))+1):\n",
    "        error = actual_hour[2] - predicted_hour[2]\n",
    "    print(error)\n",
    "    avg_error = sum(error)/len(error)\n",
    "    print(round(avg_error, 2))\n",
    "        \n",
    "    \n",
    "callStockWithID(1)    "
   ]
  },
  {
   "cell_type": "code",
   "execution_count": 19,
   "metadata": {},
   "outputs": [
    {
     "data": {
      "text/html": [
       "<div>\n",
       "<style scoped>\n",
       "    .dataframe tbody tr th:only-of-type {\n",
       "        vertical-align: middle;\n",
       "    }\n",
       "\n",
       "    .dataframe tbody tr th {\n",
       "        vertical-align: top;\n",
       "    }\n",
       "\n",
       "    .dataframe thead th {\n",
       "        text-align: right;\n",
       "    }\n",
       "</style>\n",
       "<table border=\"1\" class=\"dataframe\">\n",
       "  <thead>\n",
       "    <tr style=\"text-align: right;\">\n",
       "      <th></th>\n",
       "      <th>0</th>\n",
       "      <th>1</th>\n",
       "      <th>2</th>\n",
       "    </tr>\n",
       "  </thead>\n",
       "  <tbody>\n",
       "    <tr>\n",
       "      <th>0</th>\n",
       "      <td>1</td>\n",
       "      <td>ATAYJP</td>\n",
       "      <td>25.71</td>\n",
       "    </tr>\n",
       "    <tr>\n",
       "      <th>1</th>\n",
       "      <td>1</td>\n",
       "      <td>HVIWZR</td>\n",
       "      <td>22.80</td>\n",
       "    </tr>\n",
       "    <tr>\n",
       "      <th>2</th>\n",
       "      <td>1</td>\n",
       "      <td>SLKWVA</td>\n",
       "      <td>94.49</td>\n",
       "    </tr>\n",
       "    <tr>\n",
       "      <th>3</th>\n",
       "      <td>1</td>\n",
       "      <td>CMWTQH</td>\n",
       "      <td>81.22</td>\n",
       "    </tr>\n",
       "    <tr>\n",
       "      <th>4</th>\n",
       "      <td>2</td>\n",
       "      <td>ATAYJP</td>\n",
       "      <td>29.92</td>\n",
       "    </tr>\n",
       "    <tr>\n",
       "      <th>5</th>\n",
       "      <td>2</td>\n",
       "      <td>HVIWZR</td>\n",
       "      <td>22.06</td>\n",
       "    </tr>\n",
       "    <tr>\n",
       "      <th>6</th>\n",
       "      <td>3</td>\n",
       "      <td>ATAYJP</td>\n",
       "      <td>21.84</td>\n",
       "    </tr>\n",
       "    <tr>\n",
       "      <th>7</th>\n",
       "      <td>3</td>\n",
       "      <td>HVIWZR</td>\n",
       "      <td>22.36</td>\n",
       "    </tr>\n",
       "    <tr>\n",
       "      <th>8</th>\n",
       "      <td>3</td>\n",
       "      <td>SLKWVA</td>\n",
       "      <td>79.49</td>\n",
       "    </tr>\n",
       "  </tbody>\n",
       "</table>\n",
       "</div>"
      ],
      "text/plain": [
       "   0       1      2\n",
       "0  1  ATAYJP  25.71\n",
       "1  1  HVIWZR  22.80\n",
       "2  1  SLKWVA  94.49\n",
       "3  1  CMWTQH  81.22\n",
       "4  2  ATAYJP  29.92\n",
       "5  2  HVIWZR  22.06\n",
       "6  3  ATAYJP  21.84\n",
       "7  3  HVIWZR  22.36\n",
       "8  3  SLKWVA  79.49"
      ]
     },
     "execution_count": 19,
     "metadata": {},
     "output_type": "execute_result"
    }
   ],
   "source": [
    "predicted_data_pd"
   ]
  },
  {
   "cell_type": "code",
   "execution_count": 20,
   "metadata": {},
   "outputs": [
    {
     "name": "stdout",
     "output_type": "stream",
     "text": [
      "2.105\n"
     ]
    }
   ],
   "source": [
    "import math\n",
    "test_error = 2.1050\n",
    "# print('{:.2f}'.format(round((math.floor(test_error*100))/100.0)))\n",
    "print(round(test_error, 3))"
   ]
  },
  {
   "cell_type": "code",
   "execution_count": 21,
   "metadata": {},
   "outputs": [
    {
     "data": {
      "text/plain": [
       "[['1', 'SLKWVA', '94.51'],\n",
       " ['1', 'CMWTQH', '81.27'],\n",
       " ['1', 'ATAYJP', '25.74'],\n",
       " ['1', 'HVIWZR', '22.81'],\n",
       " ['2', 'ATAYJP', '29.62'],\n",
       " ['2', 'SLKWVA', '81.87'],\n",
       " ['2', 'CMWTQH', '116.11'],\n",
       " ['2', 'HVIWZR', '22.15'],\n",
       " ['3', 'ATAYJP', '21.93'],\n",
       " ['3', 'HVIWZR', '22.24'],\n",
       " ['3', 'SLKWVA', '78.01'],\n",
       " ['3', 'CMWTQH', '113.63']]"
      ]
     },
     "execution_count": 21,
     "metadata": {},
     "output_type": "execute_result"
    }
   ],
   "source": [
    "actual"
   ]
  },
  {
   "cell_type": "code",
   "execution_count": 22,
   "metadata": {},
   "outputs": [
    {
     "name": "stdout",
     "output_type": "stream",
     "text": [
      "['1', 'SLKWVA', '94.51']\n",
      "['1', 'CMWTQH', '81.27']\n",
      "['1', 'ATAYJP', '25.74']\n",
      "['1', 'HVIWZR', '22.81']\n"
     ]
    }
   ],
   "source": [
    "for i in actual:\n",
    "    if i[0] == '1':\n",
    "        print(i)"
   ]
  },
  {
   "cell_type": "code",
   "execution_count": 23,
   "metadata": {},
   "outputs": [
    {
     "name": "stdout",
     "output_type": "stream",
     "text": [
      "[['1', 'SLKWVA', '94.51'], ['1', 'CMWTQH', '81.27'], ['1', 'ATAYJP', '25.74'], ['1', 'HVIWZR', '22.81'], ['2', 'ATAYJP', '29.62'], ['2', 'SLKWVA', '81.87'], ['2', 'CMWTQH', '116.11'], ['2', 'HVIWZR', '22.15'], ['3', 'ATAYJP', '21.93'], ['3', 'HVIWZR', '22.24'], ['3', 'SLKWVA', '78.01'], ['3', 'CMWTQH', '113.63']]\n",
      "[['1', 'ATAYJP', '25.71'], ['1', 'HVIWZR', '22.80'], ['1', 'SLKWVA', '94.49'], ['1', 'CMWTQH', '81.22'], ['2', 'ATAYJP', '29.92'], ['2', 'HVIWZR', '22.06'], ['3', 'ATAYJP', '21.84'], ['3', 'HVIWZR', '22.36'], ['3', 'SLKWVA', '79.49']]\n"
     ]
    }
   ],
   "source": [
    "actual_data = open(\"../input/actual_1.txt\", mode = \"r\")\n",
    "actual = list()\n",
    "for i in actual_data.readlines():\n",
    "    temp = i.strip().split(\"|\")\n",
    "    actual.append(temp)\n",
    "print(actual)\n",
    "predicted_data = open(\"../input/predicted_1.txt\", mode = \"r\")\n",
    "predicted = list()\n",
    "for i in predicted_data.readlines():\n",
    "    temp = i.strip().split(\"|\")\n",
    "    predicted.append(temp)\n",
    "print(predicted)"
   ]
  },
  {
   "cell_type": "code",
   "execution_count": 24,
   "metadata": {},
   "outputs": [
    {
     "data": {
      "text/plain": [
       "[['1', 'SLKWVA', '94.51'],\n",
       " ['1', 'CMWTQH', '81.27'],\n",
       " ['1', 'ATAYJP', '25.74'],\n",
       " ['1', 'HVIWZR', '22.81'],\n",
       " ['2', 'ATAYJP', '29.62'],\n",
       " ['2', 'SLKWVA', '81.87'],\n",
       " ['2', 'CMWTQH', '116.11'],\n",
       " ['2', 'HVIWZR', '22.15'],\n",
       " ['3', 'ATAYJP', '21.93'],\n",
       " ['3', 'HVIWZR', '22.24'],\n",
       " ['3', 'SLKWVA', '78.01'],\n",
       " ['3', 'CMWTQH', '113.63']]"
      ]
     },
     "execution_count": 24,
     "metadata": {},
     "output_type": "execute_result"
    }
   ],
   "source": [
    "actual"
   ]
  },
  {
   "cell_type": "code",
   "execution_count": 25,
   "metadata": {},
   "outputs": [
    {
     "data": {
      "text/plain": [
       "[['1', 'ATAYJP', '25.71'],\n",
       " ['1', 'HVIWZR', '22.80'],\n",
       " ['1', 'SLKWVA', '94.49'],\n",
       " ['1', 'CMWTQH', '81.22'],\n",
       " ['2', 'ATAYJP', '29.92'],\n",
       " ['2', 'HVIWZR', '22.06'],\n",
       " ['3', 'ATAYJP', '21.84'],\n",
       " ['3', 'HVIWZR', '22.36'],\n",
       " ['3', 'SLKWVA', '79.49']]"
      ]
     },
     "execution_count": 25,
     "metadata": {},
     "output_type": "execute_result"
    }
   ],
   "source": [
    "predicted"
   ]
  },
  {
   "cell_type": "code",
   "execution_count": 26,
   "metadata": {},
   "outputs": [
    {
     "name": "stdout",
     "output_type": "stream",
     "text": [
      "[['1', 'ATAYJP', '25.74'], ['1', 'CMWTQH', '81.27'], ['1', 'HVIWZR', '22.81'], ['1', 'SLKWVA', '94.51'], ['2', 'ATAYJP', '29.62'], ['2', 'CMWTQH', '116.11'], ['2', 'HVIWZR', '22.15'], ['2', 'SLKWVA', '81.87'], ['3', 'ATAYJP', '21.93'], ['3', 'CMWTQH', '113.63'], ['3', 'HVIWZR', '22.24'], ['3', 'SLKWVA', '78.01']]\n",
      "[['1', 'ATAYJP', '25.71'], ['1', 'CMWTQH', '81.22'], ['1', 'HVIWZR', '22.80'], ['1', 'SLKWVA', '94.49'], ['2', 'ATAYJP', '29.92'], ['2', 'HVIWZR', '22.06'], ['3', 'ATAYJP', '21.84'], ['3', 'HVIWZR', '22.36'], ['3', 'SLKWVA', '79.49']]\n"
     ]
    }
   ],
   "source": [
    "#for i in actual:\n",
    "#    if i[0] == '1':\n",
    "#        print(i)\n",
    "actual = sorted(actual, key=lambda x: (x[0], x[1]))\n",
    "predicted = sorted(predicted, key=lambda x: (x[0], x[1]))\n",
    "print(actual)\n",
    "\n",
    "new_pre = list(predicted)\n",
    "print(new_pre)"
   ]
  },
  {
   "cell_type": "code",
   "execution_count": 27,
   "metadata": {},
   "outputs": [
    {
     "name": "stdout",
     "output_type": "stream",
     "text": [
      "['1', 'ATAYJP', '25.74']\n",
      "['1', 'CMWTQH', '81.27']\n",
      "['1', 'HVIWZR', '22.81']\n",
      "['1', 'SLKWVA', '94.51']\n",
      "['2', 'ATAYJP', '29.62']\n",
      "['2', 'CMWTQH', '116.11']\n",
      "['2', 'HVIWZR', '22.15']\n",
      "['2', 'SLKWVA', '81.87']\n",
      "['3', 'ATAYJP', '21.93']\n",
      "['3', 'CMWTQH', '113.63']\n",
      "['3', 'HVIWZR', '22.24']\n",
      "['3', 'SLKWVA', '78.01']\n"
     ]
    }
   ],
   "source": [
    "i = 0\n",
    "for x in actual:\n",
    "    print(x)\n",
    "    if x[1] != new_pre[i][1]:\n",
    "#         print(x)\n",
    "#     else:\n",
    "        new_pre.insert( i, [x[0], \"no data present\", \"ignore\"])\n",
    "    i += 1"
   ]
  },
  {
   "cell_type": "code",
   "execution_count": 28,
   "metadata": {},
   "outputs": [
    {
     "name": "stdout",
     "output_type": "stream",
     "text": [
      "[['1', 'ATAYJP', '25.74'], ['1', 'CMWTQH', '81.27'], ['1', 'HVIWZR', '22.81'], ['1', 'SLKWVA', '94.51'], ['2', 'ATAYJP', '29.62'], ['2', 'CMWTQH', '116.11'], ['2', 'HVIWZR', '22.15'], ['2', 'SLKWVA', '81.87'], ['3', 'ATAYJP', '21.93'], ['3', 'CMWTQH', '113.63'], ['3', 'HVIWZR', '22.24'], ['3', 'SLKWVA', '78.01']]\n"
     ]
    }
   ],
   "source": [
    "print(actual)\n",
    "# print(new_pre)"
   ]
  },
  {
   "cell_type": "code",
   "execution_count": 29,
   "metadata": {},
   "outputs": [
    {
     "name": "stdout",
     "output_type": "stream",
     "text": [
      "0.03\n",
      "0.05\n",
      "0.01\n",
      "0.02\n",
      "0.30\n",
      "0.09\n",
      "0.09\n",
      "0.12\n",
      "1.48\n"
     ]
    }
   ],
   "source": [
    "# error \n",
    "error_list = list()\n",
    "for i in range(len(actual)):\n",
    "    if new_pre[i][2] != 'ignore':\n",
    "        print('{:.2f}'.format(round(abs(float(actual[i][2]) - float(new_pre[i][2])), 3)))"
   ]
  },
  {
   "cell_type": "code",
   "execution_count": 30,
   "metadata": {},
   "outputs": [
    {
     "name": "stdout",
     "output_type": "stream",
     "text": [
      "['0.30', '0.09']\n",
      "0.39\n"
     ]
    }
   ],
   "source": [
    "def findingErrorPerWindow(window):\n",
    "    window = str(window)\n",
    "    errorList = list()\n",
    "    for i in range(len(actual)):\n",
    "        if new_pre[i][2] != 'ignore' and actual[i][0] == window:\n",
    "            errorList.append(('{:.2f}'.format(round(abs(float(actual[i][2]) - float(new_pre[i][2])), 3))))\n",
    "#     print(sum(errorList))\n",
    "    print(errorList)\n",
    "    errorSum = 0\n",
    "    errorListLength = len(errorList)\n",
    "    for error in errorList:\n",
    "        errorSum += float(error)\n",
    "    return (errorSum, errorListLength)\n",
    "    #     avgError = sum(errorList)/len(errorList)\n",
    "#     return avgError\n",
    "err1, err2 = findingErrorPerWindow(2)\n",
    "print(err1)"
   ]
  },
  {
   "cell_type": "code",
   "execution_count": 31,
   "metadata": {},
   "outputs": [
    {
     "name": "stdout",
     "output_type": "stream",
     "text": [
      "1\n",
      "2\n",
      "['0.03', '0.05', '0.01', '0.02']\n",
      "['0.30', '0.09']\n",
      "1 | 2 | 0.08\n",
      "2\n",
      "3\n",
      "['0.30', '0.09']\n",
      "['0.09', '0.12', '1.48']\n",
      "2 | 3 | 0.42\n"
     ]
    }
   ],
   "source": [
    "def window_combinations(max_actual, window_size = 2):\n",
    "    list1 = list()\n",
    "#     for i in range(1, max_actual+1):\n",
    "#         list1.append(i)\n",
    "    list(map(lambda i: list1.append(i), range(1, max_actual+1)))\n",
    "    it = iter(list1)\n",
    "    combinations_with_increment_1 = tuple(islice(it, window_size))\n",
    "    yield combinations_with_increment_1\n",
    "#     if len(combinations_with_increment_1) == window_size:\n",
    "#         yield combinations_with_increment_1\n",
    "    for i in it:\n",
    "        combinations_with_increment_1 = combinations_with_increment_1[1:] + (i,)\n",
    "        yield combinations_with_increment_1\n",
    "\n",
    "\n",
    "\n",
    "for i in window_combinations(3):\n",
    "    avgerrorSum = 0\n",
    "    avgerrorListLength = 0\n",
    "    firstElement = i[0]\n",
    "    lastElement = i[-1]\n",
    "    print(firstElement)\n",
    "    print(lastElement)\n",
    "    for j in i:\n",
    "        errorSum, errorListLength = findingErrorPerWindow(j)\n",
    "#         print(errorSum)\n",
    "#         print(errorListLength)\n",
    "        avgerrorSum += errorSum\n",
    "        avgerrorListLength += errorListLength\n",
    "#     print(avgerrorSum)\n",
    "#     print(avgerrorListLength)\n",
    "    avgValue = avgerrorSum/avgerrorListLength\n",
    "    print(firstElement,\"|\",lastElement,\"|\",'{:.2f}'.format(round(avgValue, 3)))"
   ]
  },
  {
   "cell_type": "code",
   "execution_count": 32,
   "metadata": {},
   "outputs": [
    {
     "data": {
      "text/plain": [
       "[]"
      ]
     },
     "execution_count": 32,
     "metadata": {},
     "output_type": "execute_result"
    }
   ],
   "source": [
    "new_actual = list()\n",
    "c = ('1', '2')\n",
    "a = list()\n",
    "\n",
    "c = ('1', '2')\n",
    "\n",
    "k = str(c[0])\n",
    "list(filter(lambda x: all(x[0] == i for i in c), actual))"
   ]
  },
  {
   "cell_type": "code",
   "execution_count": 33,
   "metadata": {},
   "outputs": [
    {
     "name": "stdout",
     "output_type": "stream",
     "text": [
      "[['1', 'ATAYJP', '25.74'], ['1', 'CMWTQH', '81.27'], ['1', 'HVIWZR', '22.81'], ['1', 'SLKWVA', '94.51'], ['2', 'ATAYJP', '29.62'], ['2', 'CMWTQH', '116.11'], ['2', 'HVIWZR', '22.15'], ['2', 'SLKWVA', '81.87']]\n"
     ]
    }
   ],
   "source": [
    "window_actual = list()\n",
    "for i in actual:\n",
    "    if i[0] in c:\n",
    "        window_actual.append(i)\n",
    "print(window_actual)"
   ]
  },
  {
   "cell_type": "code",
   "execution_count": 3,
   "metadata": {},
   "outputs": [
    {
     "name": "stdout",
     "output_type": "stream",
     "text": [
      "[['998', 'USFFRR', '300.10'], ['998', 'BDVJDC', '299.89'], ['998', 'NJFTAL', '281.94'], ['998', 'NYZXXA', '294.40'], ['998', 'FRYYPL', '295.95'], ['998', 'GDKJPI', '298.64'], ['998', 'RRVMLC', '301.99'], ['998', 'JEDAXP', '296.51'], ['999', 'EDMMCA', '19.59'], ['999', 'AMDDPW', '25.27'], ['999', 'YZSGPL', '24.62'], ['999', 'CCKENL', '21.81'], ['1000', 'EDMMCA', '31.01'], ['1000', 'AMDDPW', '23.08'], ['1000', 'YZSGPL', '24.21'], ['1000', 'CCKENL', '17.30'], ['1000', 'NELVVI', '28.56'], ['1000', 'LWZQMJ', '29.49'], ['1001', 'EDMMCA', '23.58'], ['1001', 'AMDDPW', '24.54'], ['1001', 'YZSGPL', '30.64'], ['1001', 'CCKENL', '23.23'], ['1001', 'NELVVI', '29.10'], ['1001', 'LWZQMJ', '27.48'], ['1001', 'QMQNMQ', '23.63']]\n"
     ]
    }
   ],
   "source": [
    "with open(\"../input/actual_1.txt\", mode = \"r\") as actual_data:\n",
    "    actual = list()\n",
    "    for i in actual_data:\n",
    "        temp = i.strip().split(\"|\")\n",
    "        actual.append(temp)\n",
    "    print(actual)\n",
    "#         window_actual, stock_id, amount = zip(*actual)\n",
    "#         max_actual = int(max(window_actual))"
   ]
  },
  {
   "cell_type": "code",
   "execution_count": null,
   "metadata": {},
   "outputs": [],
   "source": []
  },
  {
   "cell_type": "code",
   "execution_count": null,
   "metadata": {},
   "outputs": [],
   "source": []
  },
  {
   "cell_type": "code",
   "execution_count": null,
   "metadata": {},
   "outputs": [],
   "source": []
  }
 ],
 "metadata": {
  "kernelspec": {
   "display_name": "Python 3",
   "language": "python",
   "name": "python3"
  },
  "language_info": {
   "codemirror_mode": {
    "name": "ipython",
    "version": 3
   },
   "file_extension": ".py",
   "mimetype": "text/x-python",
   "name": "python",
   "nbconvert_exporter": "python",
   "pygments_lexer": "ipython3",
   "version": "3.6.6"
  }
 },
 "nbformat": 4,
 "nbformat_minor": 2
}
